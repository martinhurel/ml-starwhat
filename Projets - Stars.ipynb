{
 "cells": [
  {
   "cell_type": "markdown",
   "metadata": {},
   "source": [
    "<h1 style=\"font-size: 60px; color: #02475e; text-align: center\">Stars recognition project</h1>"
   ]
  },
  {
   "cell_type": "markdown",
   "metadata": {},
   "source": [
    "<hr style=\"height: 3px;background-color: #02475e\"/>"
   ]
  },
  {
   "cell_type": "markdown",
   "metadata": {},
   "source": [
    "<h1 style=\"font-size: 35px; color: #02475e\">Introduction</h1>\n",
    "<h2 style=\"color: #687980\">Objective of the project: </h2>\n",
    "<h2 style=\"color: #687980\"> -> Guess the star type with some basic information</h2>\n",
    "<h3 style=\"color: #687980; font-size: 24px\">Frog group members &#128056;:</h3>\n",
    "<ul>\n",
    "    <li style=\"color: #687980; font-size: 17px\">Astronaute <b>Mohamed Belhadj </b></li>\n",
    "    <li style=\"color: #687980; font-size: 17px\">Astronaute <b>Roat Kim</b></li>\n",
    "    <li style=\"color: #687980; font-size: 17px\">Astronaute <b>Paniz Akherati</b></li>\n",
    "    <li style=\"color: #687980; font-size: 17px\">Astronaute <b>Shahin Abdi</b></li>\n",
    "    <li style=\"color: #687980; font-size: 17px\">Astronaute <b>Martin Hurel</b></li>\n",
    "</ul>"
   ]
  },
  {
   "cell_type": "markdown",
   "metadata": {},
   "source": [
    "<img src=\"https://cdn.wallpapersafari.com/90/35/H5A0BU.jpg\"/>"
   ]
  },
  {
   "cell_type": "markdown",
   "metadata": {},
   "source": [
    "<hr style=\"height: 3px;background-color: #02475e\"/>"
   ]
  },
  {
   "cell_type": "markdown",
   "metadata": {},
   "source": [
    "<h2 style=\"font-size: 35px; color: #02475e\">Sommaire</h2>\n",
    "<ul>\n",
    "  <li><h3 style=\"color: #687980; font-size: 25px\">I. Import and visualisation of the data (how our dataset is structure...)</h3></li>\n",
    "  <li><h3 style=\"color: #687980; font-size: 25px\">II. Wich model we decide to use (and why)</h3></li>\n",
    "  <li><h3 style=\"color: #687980; font-size: 25px\">III. Our model in action</h3></li>\n",
    "</ul>"
   ]
  },
  {
   "cell_type": "markdown",
   "metadata": {},
   "source": [
    "<hr style=\"height: 3px;background-color: #02475e\"/>"
   ]
  },
  {
   "cell_type": "markdown",
   "metadata": {},
   "source": [
    "<h2 style=\"font-size: 35px; color: #02475e\">I. Import and visualisation of the data (how our dataset is structure...)</h2>"
   ]
  },
  {
   "cell_type": "markdown",
   "metadata": {},
   "source": [
    "<h3 style=\"color: #687980; font-size: 25px\">a. Introduction</h3>"
   ]
  },
  {
   "cell_type": "code",
   "execution_count": 1,
   "metadata": {},
   "outputs": [],
   "source": [
    "import pandas as pd\n",
    "df = pd.read_csv('data/stars.csv')"
   ]
  },
  {
   "cell_type": "markdown",
   "metadata": {},
   "source": [
    "<p style=\"color: #687980; font-size: 17px\">The original dataframe come from Kaggle and is call \"Star dataset to predict star types\". <br> As we'll see, it contains 240 rows and 7 columns.</p>"
   ]
  },
  {
   "cell_type": "markdown",
   "metadata": {},
   "source": [
    "<h3 style=\"color: #687980; font-size: 25px\">b. Basic information</h3>"
   ]
  },
  {
   "cell_type": "code",
   "execution_count": 2,
   "metadata": {
    "scrolled": true
   },
   "outputs": [
    {
     "data": {
      "text/html": [
       "<div>\n",
       "<style scoped>\n",
       "    .dataframe tbody tr th:only-of-type {\n",
       "        vertical-align: middle;\n",
       "    }\n",
       "\n",
       "    .dataframe tbody tr th {\n",
       "        vertical-align: top;\n",
       "    }\n",
       "\n",
       "    .dataframe thead th {\n",
       "        text-align: right;\n",
       "    }\n",
       "</style>\n",
       "<table border=\"1\" class=\"dataframe\">\n",
       "  <thead>\n",
       "    <tr style=\"text-align: right;\">\n",
       "      <th></th>\n",
       "      <th>Temperature (K)</th>\n",
       "      <th>Luminosity(L/Lo)</th>\n",
       "      <th>Radius(R/Ro)</th>\n",
       "      <th>Absolute magnitude(Mv)</th>\n",
       "      <th>Star type</th>\n",
       "      <th>Star color</th>\n",
       "      <th>Spectral Class</th>\n",
       "    </tr>\n",
       "  </thead>\n",
       "  <tbody>\n",
       "    <tr>\n",
       "      <th>0</th>\n",
       "      <td>3068</td>\n",
       "      <td>0.002400</td>\n",
       "      <td>0.1700</td>\n",
       "      <td>16.12</td>\n",
       "      <td>0</td>\n",
       "      <td>Red</td>\n",
       "      <td>M</td>\n",
       "    </tr>\n",
       "    <tr>\n",
       "      <th>1</th>\n",
       "      <td>3042</td>\n",
       "      <td>0.000500</td>\n",
       "      <td>0.1542</td>\n",
       "      <td>16.60</td>\n",
       "      <td>0</td>\n",
       "      <td>Red</td>\n",
       "      <td>M</td>\n",
       "    </tr>\n",
       "    <tr>\n",
       "      <th>2</th>\n",
       "      <td>2600</td>\n",
       "      <td>0.000300</td>\n",
       "      <td>0.1020</td>\n",
       "      <td>18.70</td>\n",
       "      <td>0</td>\n",
       "      <td>Red</td>\n",
       "      <td>M</td>\n",
       "    </tr>\n",
       "    <tr>\n",
       "      <th>3</th>\n",
       "      <td>2800</td>\n",
       "      <td>0.000200</td>\n",
       "      <td>0.1600</td>\n",
       "      <td>16.65</td>\n",
       "      <td>0</td>\n",
       "      <td>Red</td>\n",
       "      <td>M</td>\n",
       "    </tr>\n",
       "    <tr>\n",
       "      <th>4</th>\n",
       "      <td>1939</td>\n",
       "      <td>0.000138</td>\n",
       "      <td>0.1030</td>\n",
       "      <td>20.06</td>\n",
       "      <td>0</td>\n",
       "      <td>Red</td>\n",
       "      <td>M</td>\n",
       "    </tr>\n",
       "  </tbody>\n",
       "</table>\n",
       "</div>"
      ],
      "text/plain": [
       "   Temperature (K)  Luminosity(L/Lo)  Radius(R/Ro)  Absolute magnitude(Mv)  \\\n",
       "0             3068          0.002400        0.1700                   16.12   \n",
       "1             3042          0.000500        0.1542                   16.60   \n",
       "2             2600          0.000300        0.1020                   18.70   \n",
       "3             2800          0.000200        0.1600                   16.65   \n",
       "4             1939          0.000138        0.1030                   20.06   \n",
       "\n",
       "   Star type Star color Spectral Class  \n",
       "0          0        Red              M  \n",
       "1          0        Red              M  \n",
       "2          0        Red              M  \n",
       "3          0        Red              M  \n",
       "4          0        Red              M  "
      ]
     },
     "execution_count": 2,
     "metadata": {},
     "output_type": "execute_result"
    }
   ],
   "source": [
    "df.head()"
   ]
  },
  {
   "cell_type": "code",
   "execution_count": 3,
   "metadata": {},
   "outputs": [
    {
     "name": "stdout",
     "output_type": "stream",
     "text": [
      "<class 'pandas.core.frame.DataFrame'>\n",
      "RangeIndex: 240 entries, 0 to 239\n",
      "Data columns (total 7 columns):\n",
      " #   Column                  Non-Null Count  Dtype  \n",
      "---  ------                  --------------  -----  \n",
      " 0   Temperature (K)         240 non-null    int64  \n",
      " 1   Luminosity(L/Lo)        240 non-null    float64\n",
      " 2   Radius(R/Ro)            240 non-null    float64\n",
      " 3   Absolute magnitude(Mv)  240 non-null    float64\n",
      " 4   Star type               240 non-null    int64  \n",
      " 5   Star color              240 non-null    object \n",
      " 6   Spectral Class          240 non-null    object \n",
      "dtypes: float64(3), int64(2), object(2)\n",
      "memory usage: 13.2+ KB\n"
     ]
    }
   ],
   "source": [
    "df.info()"
   ]
  },
  {
   "cell_type": "markdown",
   "metadata": {},
   "source": [
    "<h3 style=\"color: #687980; font-size: 25px\">c. Formatting data</h3>"
   ]
  },
  {
   "cell_type": "code",
   "execution_count": 2,
   "metadata": {},
   "outputs": [],
   "source": [
    "from sklearn.preprocessing import LabelEncoder\n",
    "\n",
    "inputs = df.drop('Star type',axis='columns')\n",
    "\n",
    "target = df['Star type']\n",
    "\n",
    "inputs['Star color'] = LabelEncoder().fit_transform(inputs['Star color'])\n",
    "inputs['Spectral Class'] = LabelEncoder().fit_transform(inputs['Spectral Class'])"
   ]
  },
  {
   "cell_type": "markdown",
   "metadata": {},
   "source": [
    "<h3 style=\"color: #687980; font-size: 25px\">d. Data visualisation</h3>"
   ]
  },
  {
   "cell_type": "code",
   "execution_count": 3,
   "metadata": {},
   "outputs": [
    {
     "data": {
      "image/png": "[encoded data removed]",
      "text/plain": [
       "<Figure size 1080x216 with 1 Axes>"
      ]
     },
     "metadata": {
      "needs_background": "light"
     },
     "output_type": "display_data"
    }
   ],
   "source": [
    "import matplotlib.pyplot as plt\n",
    "import seaborn as sns\n",
    "\n",
    "plt.figure(figsize=(15, 3))\n",
    "\n",
    "plt.subplot(131)\n",
    "plt.bar(df['Star type'], df['Temperature (K)'])\n",
    "plt.suptitle('Star type a function of the temperature')\n",
    "plt.show()"
   ]
  },
  {
   "cell_type": "markdown",
   "metadata": {},
   "source": [
    "<p style=\"color: #687980; font-size: 17px\">The first graph show us that the bigger is the star the hotter she is</p>"
   ]
  },
  {
   "cell_type": "code",
   "execution_count": 4,
   "metadata": {},
   "outputs": [
    {
     "data": {
      "image/png": "[encoded data removed]",
      "text/plain": [
       "<Figure size 432x288 with 1 Axes>"
      ]
     },
     "metadata": {
      "needs_background": "light"
     },
     "output_type": "display_data"
    }
   ],
   "source": [
    "#sns.set_theme(style=\"darkgrid\")\n",
    "ax = sns.countplot(x=\"Star color\", hue=\"Star type\", data=df)\n",
    "\n",
    "ax.set_xticklabels(ax.get_xticklabels(), rotation=40, ha=\"right\")\n",
    "\n",
    "plt.tight_layout()\n",
    "plt.show()"
   ]
  },
  {
   "cell_type": "markdown",
   "metadata": {},
   "source": [
    "<p style=\"color: #687980; font-size: 17px\">The majority of stars seem to be blue or red.</p>"
   ]
  },
  {
   "cell_type": "code",
   "execution_count": 5,
   "metadata": {},
   "outputs": [
    {
     "data": {
      "image/png": "[encoded data removed]",
      "text/plain": [
       "<Figure size 432x288 with 1 Axes>"
      ]
     },
     "metadata": {
      "needs_background": "light"
     },
     "output_type": "display_data"
    }
   ],
   "source": [
    "ax = sns.countplot(x=\"Star type\",data=df)"
   ]
  },
  {
   "cell_type": "markdown",
   "metadata": {},
   "source": [
    "<p style=\"color: #687980; font-size: 17px\">This graph show us that our data set is good because we have the same amount of data for each star type, so our algorithms  is balanced</p>"
   ]
  },
  {
   "cell_type": "markdown",
   "metadata": {},
   "source": [
    "<hr style=\"height: 3px;background-color: #02475e\"/>"
   ]
  },
  {
   "cell_type": "markdown",
   "metadata": {},
   "source": [
    "<h2 style=\"font-size: 35px; color: #02475e\">II. Wich model we decide to use (and why)</h2>"
   ]
  },
  {
   "cell_type": "markdown",
   "metadata": {},
   "source": [
    "<p style=\"color: #687980; font-size: 20px\">We made a function that take multiple models, test them and sort them by the best acurrency</p>"
   ]
  },
  {
   "cell_type": "code",
   "execution_count": 30,
   "metadata": {},
   "outputs": [
    {
     "name": "stdout",
     "output_type": "stream",
     "text": [
      "\n",
      "\n",
      "C̲l̲a̲s̲s̲e̲m̲e̲n̲t̲ ̲d̲e̲s̲ ̲d̲i̲f̲f̲e̲r̲e̲n̲t̲s̲ ̲m̲o̲d̲è̲l̲e̲s̲ ̲q̲u̲i̲ ̲o̲n̲t̲ ̲t̲o̲u̲r̲n̲é̲ ̲1̲ ̲f̲o̲i̲s̲:\n",
      "\n",
      "\n",
      "#1 DecisionTreeClassifier: 1.0\n",
      "#2 RandomForestClassifier: 0.9702381\n",
      "#3 SGDClassifier: 0.91666667\n",
      "#4 Svm: 0.91666667\n",
      "#5 GaussianNB: 0.85119048\n",
      "#6 Knn: 0.52381\n",
      "\n",
      "\n",
      "Executé en 0:00:00\n"
     ]
    }
   ],
   "source": [
    "import numpy as np\n",
    "import time\n",
    "import datetime\n",
    "\n",
    "from sklearn import svm, datasets, metrics\n",
    "from sklearn.linear_model import LogisticRegression, SGDClassifier\n",
    "from sklearn.pipeline import make_pipeline\n",
    "from sklearn.preprocessing import StandardScaler\n",
    "from sklearn.tree import DecisionTreeClassifier\n",
    "from sklearn.neighbors import KNeighborsClassifier\n",
    "from sklearn.model_selection import train_test_split\n",
    "from sklearn.naive_bayes import GaussianNB\n",
    "from sklearn.neural_network import MLPClassifier\n",
    "from sklearn.ensemble import RandomForestClassifier\n",
    "\n",
    "def tri_insertion_desc(tableau1,tableau2):\n",
    "    for i in range(1,len(tableau1)):\n",
    "        en_cours1 = tableau1[i]\n",
    "        en_cours2 = tableau2[i]\n",
    "        j = i\n",
    "        #décalage des éléments du tableau }\n",
    "        while (j>0) and (tableau1[j-1]<en_cours1):\n",
    "            tableau1[j]=tableau1[j-1]\n",
    "            tableau2[j]=tableau2[j-1]\n",
    "            j = j-1\n",
    "        #on insère l'élément à sa place\n",
    "        tableau1[j]=en_cours1\n",
    "        tableau2[j]=en_cours2\n",
    "\n",
    "def knn(x_train,y_train,x_test,y_test):\n",
    "    clf = KNeighborsClassifier(n_neighbors = 5).fit(x_train, y_train)\n",
    "    ypred = clf.predict(x_test)\n",
    "    result = metrics.accuracy_score(y_test, ypred)\n",
    "    return round(result, 5)\n",
    "\n",
    "def svm_lin(x_train,y_train,x_test,y_test):\n",
    "    clf  = svm.SVC(kernel='linear', C=1).fit(x_train,y_train)\n",
    "    ypred = clf.predict(x_test)\n",
    "    result = np.float64(metrics.accuracy_score(y_test, ypred))\n",
    "    return result\n",
    "\n",
    "def gaussian_nb(x_train,y_train,x_test,y_test):\n",
    "    clf  = GaussianNB().fit(x_train, y_train)\n",
    "    ypred = clf.predict(x_test)\n",
    "    result = np.float64(metrics.accuracy_score(y_test, ypred))\n",
    "    return result\n",
    "\n",
    "def logistic_regression(x_train,y_train,x_test,y_test):\n",
    "    clf  = LogisticRegression().fit(x_train, y_train)\n",
    "    ypred = clf.predict(x_test)\n",
    "    result = np.float64(metrics.accuracy_score(y_test, ypred))\n",
    "    return result\n",
    "\n",
    "def sgd_classifier(x_train,y_train,x_test,y_test):\n",
    "    clf  = make_pipeline(StandardScaler(), SGDClassifier(max_iter=1000, tol=1e-3)).fit(x_train, y_train)\n",
    "    ypred = clf.predict(x_test)\n",
    "    result = np.float64(metrics.accuracy_score(y_test, ypred))\n",
    "    return result\n",
    "\n",
    "def random_forest_classifier(x_train,y_train,x_test,y_test):\n",
    "    model = RandomForestClassifier(n_estimators=10)\n",
    "    model.fit(x_train, y_train)\n",
    "    result = model.score(x_test,y_test)\n",
    "    return result\n",
    "\n",
    "def decision_tree_classifier(x_train,y_train,x_test,y_test):\n",
    "    clf  = DecisionTreeClassifier(random_state=0).fit(x_train, y_train)\n",
    "    ypred = clf.predict(x_test)\n",
    "    result = np.float64(metrics.accuracy_score(y_test, ypred))\n",
    "    return result\n",
    "\n",
    "def verify(models, models_name, counter, test_size):\n",
    "    # We start the timer to see how long the function will take to execute\n",
    "    start_time = time.time()\n",
    "    \n",
    "    seed_value = 1\n",
    "    # We initialize for the first loop our training and test data\n",
    "    x, y = inputs, target\n",
    "    x_train, x_test, y_train, y_test = train_test_split(x, y, test_size=test_size, random_state=seed_value)\n",
    "    \n",
    "    values = []    \n",
    "    \n",
    "    # We loop every models Counter time (counter value is defined we the def is call)\n",
    "    for y in range(counter):\n",
    "        # We loop throught every models to calculate his accuracy\n",
    "        for x in range(len(models)):\n",
    "            # If this is the first loop, we simply add the values in the array\n",
    "            if(len(values) < len(models)):\n",
    "                values.append((models[x](x_train,y_train,x_test,y_test)))\n",
    "                \n",
    "            # If this isn't the first loop, we add the value to the last value collected\n",
    "            else:\n",
    "                values[x] = values[x] + models[x](x_train,y_train,x_test,y_test)\n",
    "        \n",
    "        x, y = inputs, target\n",
    "\n",
    "        x_train, x_test, y_train, y_test = train_test_split(x, y, test_size=test_size, random_state=seed_value)\n",
    "        \n",
    "    #We add all the value together by model and divide by the Counter number\n",
    "    values = [x/counter for x in values]\n",
    "    # We sorted the models_name array with the values index\n",
    "\n",
    "    print(\"\\n\")\n",
    "    tri_insertion_desc(values,models_name) \n",
    "\n",
    "    result = []\n",
    "    # We create the 'beautiful' array to rend\n",
    "    for x in range(len(models_name)):\n",
    "        models_name[x] = '#' + str(x + 1) + ' ' + models_name[x] + ': ' + str(round(values[x], 8))\n",
    "        \n",
    "    # We check how long it has take to execute the function\n",
    "    avgString = datetime.timedelta(seconds=(time.time() - start_time))\n",
    "    avgString = str(avgString).split(\".\")[0]\n",
    "\n",
    "    print(\"\\u0332\".join(\"Classement des differents modèles qui ont tourné \" + str(counter) + \" fois:\"))\n",
    "    print(\"\\n\")\n",
    "    print(*models_name, sep = \"\\n\")\n",
    "    print(\"\\n\")\n",
    "    print('Executé en ' + avgString)\n",
    "\n",
    "# We choose wich models we want to test\n",
    "# Every models must have a def to calculate his predictions\n",
    "models = [knn , gaussian_nb, sgd_classifier, decision_tree_classifier, svm_lin, random_forest_classifier] \n",
    "models_name = ['Knn', 'GaussianNB', 'SGDClassifier', 'DecisionTreeClassifier', 'Svm', 'RandomForestClassifier']\n",
    "\n",
    "verify(models, models_name, 1, 0.7)"
   ]
  },
  {
   "cell_type": "markdown",
   "metadata": {},
   "source": [
    "<p style=\"color: #687980; font-size: 20px\">As we can see the more precise model is the <b>Random Forest Classifier</b></p>\n",
    "<p style=\"color: #687980; font-size: 20px\">We decide that we will use for our model</p>"
   ]
  },
  {
   "cell_type": "markdown",
   "metadata": {},
   "source": [
    "<h2 style=\"font-size: 35px; color: #02475e\">III. Our model in action</h2>"
   ]
  },
  {
   "cell_type": "markdown",
   "metadata": {},
   "source": [
    "<h3 style=\"font-size: 26px; color: #02475e\">Grid Search to define the best parameter</h3>"
   ]
  },
  {
   "cell_type": "code",
   "execution_count": 22,
   "metadata": {},
   "outputs": [
    {
     "name": "stdout",
     "output_type": "stream",
     "text": [
      "10\n"
     ]
    }
   ],
   "source": [
    "from sklearn.model_selection import GridSearchCV\n",
    "from sklearn.ensemble import RandomForestClassifier\n",
    "from sklearn.ensemble import RandomForestRegressor\n",
    "\n",
    "param_grid = { \n",
    "    'n_estimators': range(100,500,50),\n",
    "    'max_features' : ['auto','sqrt'],\n",
    "    'max_depth' : [2,4,6,8],\n",
    "    'min_samples_split' : [2,5],\n",
    "    'min_samples_leaf' : [1,2],\n",
    "    'bootstrap' : [True, False]\n",
    "    \n",
    "}\n",
    "rfc = RandomForestClassifier()\n",
    "x, y = inputs, target\n",
    "x_train, x_test, y_train, y_test = train_test_split(x, y, test_size=0.3)\n",
    "CV_rfc = GridSearchCV(estimator = rfc, param_grid = param_grid, cv = 5, verbose = 2, n_jobs = 4)\n",
    "CV_rfc.fit(x_train, y_train)\n",
    "\n",
    "best_param = CV_rfc.best_params_['n_estimators']"
   ]
  },
  {
   "cell_type": "markdown",
   "metadata": {},
   "source": [
    "<h3 style=\"font-size: 26px; color: #02475e\">Our model</h3>"
   ]
  },
  {
   "cell_type": "code",
   "execution_count": 9,
   "metadata": {},
   "outputs": [
    {
     "name": "stdout",
     "output_type": "stream",
     "text": [
      "\n",
      "\n",
      "C̲l̲a̲s̲s̲e̲m̲e̲n̲t̲ ̲d̲e̲s̲ ̲d̲i̲f̲f̲e̲r̲e̲n̲t̲s̲ ̲m̲o̲d̲è̲l̲e̲s̲ ̲q̲u̲i̲ ̲o̲n̲t̲ ̲t̲o̲u̲r̲n̲é̲ ̲1̲ ̲f̲o̲i̲s̲:\n",
      "\n",
      "\n",
      "#1 RandomForestClassifier: 1.0\n",
      "\n",
      "\n",
      "Executé en 0:00:00\n"
     ]
    }
   ],
   "source": [
    "def random_forest_classifier(x_train,y_train,x_test,y_test):\n",
    "    model = RandomForestClassifier(n_estimators=best_param)\n",
    "    model.fit(x_train, y_train)\n",
    "    result = model.score(x_test,y_test)\n",
    "    return result\n",
    "\n",
    "models = [random_forest_classifier] \n",
    "modelsName = ['RandomForestClassifier']\n",
    "\n",
    "verify(models, modelsName, 1, 0.3)"
   ]
  },
  {
   "cell_type": "markdown",
   "metadata": {},
   "source": [
    "<p style=\"color: #687980; font-size: 20px\">We can see that by increasing the variable \"n_estimators\" our model is more precise and the execution time isn't very long (< 1s)</p>"
   ]
  },
  {
   "cell_type": "markdown",
   "metadata": {},
   "source": [
    "<h2 style=\"font-size: 35px; color: #02475e\">IV. Our API in progress</h2>"
   ]
  },
  {
   "cell_type": "markdown",
   "metadata": {},
   "source": [
    "<p style=\"color: #687980; font-size: 20px\">For our api we want that by sending data to it, the api give you the <b>Star type</b> and some informations about this type of star</p>\n",
    "<p style=\"color: #687980; font-size: 20px\">It will look like that: (but much cooler) </p>"
   ]
  },
  {
   "cell_type": "code",
   "execution_count": 24,
   "metadata": {},
   "outputs": [
    {
     "name": "stdout",
     "output_type": "stream",
     "text": [
      "We've created a pickle file in the same path as the ipynb file\n"
     ]
    }
   ],
   "source": [
    "x, y = inputs, target\n",
    "x_train, x_test, y_train, y_test = train_test_split(x, y, test_size=0.3)\n",
    "\n",
    "model = RandomForestClassifier(n_estimators=CV_rfc.best_params_['n_estimators'])\n",
    "model.fit(x_train, y_train)\n",
    "y_pred = model.predict(x_test)\n",
    "\n",
    "import pickle\n",
    "import os \n",
    "import pathlib\n",
    "\n",
    "abspath = pathlib.Path('randomf_model.pkl').absolute()\n",
    "with open(str(abspath), 'wb') as f:\n",
    "#we use pickle to dump our model (serialization)\n",
    "    pickle.dump(model, f)\n",
    "    print(\"We've created a pickle file in the same path as the ipynb file\")"
   ]
  },
  {
   "cell_type": "code",
   "execution_count": 23,
   "metadata": {},
   "outputs": [
    {
     "name": "stdout",
     "output_type": "stream",
     "text": [
      "The star with the parameters you entered is a Brown Dwarf with a precision of : 97.619%\n"
     ]
    }
   ],
   "source": [
    "x_train, x_test, y_train, y_test = train_test_split(inputs,target,test_size=0.7)\n",
    "model = RandomForestClassifier(n_estimators=best_param)\n",
    "model.fit(x_train, y_train)\n",
    "score = model.score(x_test, y_test)\n",
    "values_to_predict = [(2600,0.000500,0.1542,18.70,10,5)]\n",
    "predict = model.predict(values_to_predict)[0]\n",
    "\n",
    "if(predict == 0):\n",
    "    value = 'Brown Dwarf'\n",
    "elif(predict == 1):\n",
    "    value = 'Red Dwarf'\n",
    "elif(predict == 2):\n",
    "    value = 'White Dwarf'\n",
    "elif(predict == 3):\n",
    "    value = 'Main Sequence'\n",
    "elif(predict == 4):\n",
    "    value = 'Supergiant'\n",
    "elif(predict == 5):\n",
    "    value = 'Hypergiant'\n",
    "\n",
    "print('The star with the parameters you entered is a ' + value + ' with a precision of : ' + str(round(score*100, 3)) + '%')"
   ]
  },
  {
   "cell_type": "markdown",
   "metadata": {},
   "source": [
    "<p style=\"color: #687980; font-size: 20px\">If you want to see the real API, execute the run_api.py file in the folder</p>"
   ]
  }
 ],
 "metadata": {
  "kernelspec": {
   "display_name": "Python 3",
   "language": "python",
   "name": "python3"
  },
  "language_info": {
   "codemirror_mode": {
    "name": "ipython",
    "version": 3
   },
   "file_extension": ".py",
   "mimetype": "text/x-python",
   "name": "python",
   "nbconvert_exporter": "python",
   "pygments_lexer": "ipython3",
   "version": "3.8.5"
  }
 },
 "nbformat": 4,
 "nbformat_minor": 4
}
